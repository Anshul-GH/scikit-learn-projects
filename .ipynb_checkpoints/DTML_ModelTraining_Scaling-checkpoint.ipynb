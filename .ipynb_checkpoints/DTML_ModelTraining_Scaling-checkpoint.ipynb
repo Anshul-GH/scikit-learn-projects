{
 "cells": [
  {
   "cell_type": "code",
   "execution_count": 1,
   "metadata": {},
   "outputs": [],
   "source": [
    "# connect to the PostgreSQL instance\n",
    "import psycopg2 as pg\n",
    "\n",
    "# custom python library created to store the db configuation details\n",
    "from config import config\n",
    "\n",
    "# load the object with the default database parameters required\n",
    "params = config()\n",
    "\n",
    "# connect to the PostgreSQL server\n",
    "conn = pg.connect(**params)\n",
    "\n",
    "curs = conn.cursor()\n",
    "\n",
    "# execute SQL queries to the tables within the database\n",
    "curs.execute('select * from dtml_featr_num;')\n",
    "\n",
    "# query_op = curs.fetchone() # fetches only one record\n",
    "query_op = curs.fetchall()"
   ]
  },
  {
   "cell_type": "code",
   "execution_count": 2,
   "metadata": {},
   "outputs": [
    {
     "name": "stderr",
     "output_type": "stream",
     "text": [
      "IOPub data rate exceeded.\n",
      "The notebook server will temporarily stop sending output\n",
      "to the client in order to avoid crashing it.\n",
      "To change this limit, set the config variable\n",
      "`--NotebookApp.iopub_data_rate_limit`.\n",
      "\n",
      "Current values:\n",
      "NotebookApp.iopub_data_rate_limit=1000000.0 (bytes/sec)\n",
      "NotebookApp.rate_limit_window=3.0 (secs)\n",
      "\n"
     ]
    }
   ],
   "source": [
    "print(query_op)"
   ]
  },
  {
   "cell_type": "code",
   "execution_count": 3,
   "metadata": {},
   "outputs": [],
   "source": [
    "import pandas as pd\n",
    "df = pd.DataFrame(query_op)"
   ]
  },
  {
   "cell_type": "code",
   "execution_count": 4,
   "metadata": {},
   "outputs": [
    {
     "name": "stdout",
     "output_type": "stream",
     "text": [
      "          0     1   2   3    4   5   6   7   8   9    ...    33     34  35  \\\n",
      "0       1344  2018   4  18  108  16  16   2   2   2   ...     2  0.000   0   \n",
      "1       1345  2017   5  24  144  21  21   2   2   2   ...     3  0.000   0   \n",
      "2       1346  2017   7  25  206  30  30   1   1   3   ...     6  0.000   1   \n",
      "3       1347  2018   5   8  128  19  19   1   1   2   ...     2  0.000   0   \n",
      "4       1348  2018   1  30   30   5   5   1   1   1   ...     7  0.000   1   \n",
      "5       1349  2018   3  12   71  11  11   0   0   1   ...     2  0.000   0   \n",
      "6       1350  2017  11   7  311  45  45   1   1   4   ...     1  1.000   0   \n",
      "7       1351  2017   8  25  237  34  34   4   4   3   ...     1  0.500   0   \n",
      "8       1352  2017   8  14  226  33  33   0   0   3   ...    14  0.166   1   \n",
      "9       1353  2017   6  27  178  26  26   1   1   2   ...     5  0.000   0   \n",
      "10      1354  2017   7  18  199  29  29   1   1   3   ...    10  0.000   0   \n",
      "11      1355  2017   7  27  208  30  30   3   3   3   ...     6  0.000   0   \n",
      "12      1356  2018   5  21  141  21  21   0   0   2   ...     1  0.000   0   \n",
      "13      1357  2018   3  26   85  13  13   0   0   1   ...     0  0.000   0   \n",
      "14      1358  2017   8  18  230  33  33   4   4   3   ...     0  1.000   0   \n",
      "15      1359  2018   2  15   46   7   7   3   3   1   ...     2  0.500   0   \n",
      "16      1360  2018   1  30   30   5   5   1   1   1   ...     2  0.500   0   \n",
      "17      1361  2017   7  11  192  28  28   1   1   3   ...    15  0.000   0   \n",
      "18      1362  2018   5  23  143  21  21   2   2   2   ...     4  0.000   0   \n",
      "19      1363  2018   3  23   82  12  12   4   4   1   ...     2  0.500   0   \n",
      "20      1364  2017  10  30  303  44  44   0   0   4   ...     3  0.000   0   \n",
      "21      1365  2018   3  27   86  13  13   1   1   1   ...    15  0.000   1   \n",
      "22      1366  2017   8   2  214  31  31   2   2   3   ...     2  0.000   0   \n",
      "23      1367  2017   9  22  265  38  38   4   4   3   ...     2  0.000   0   \n",
      "24      1368  2018   3  15   74  11  11   3   3   1   ...     5  0.200   1   \n",
      "25      1369  2017  11  13  317  46  46   0   0   4   ...     1  0.500   0   \n",
      "26      1370  2017   8  10  222  32  32   3   3   3   ...     7  0.000   1   \n",
      "27      1371  2017   8  25  237  34  34   4   4   3   ...    29  0.000   0   \n",
      "28      1372  2018   5  23  143  21  21   2   2   2   ...    13  0.142   0   \n",
      "29      1373  2018   5  14  134  20  20   0   0   2   ...     1  0.333   0   \n",
      "...      ...   ...  ..  ..  ...  ..  ..  ..  ..  ..   ...    ..    ...  ..   \n",
      "999970  1314  2017   8  23  235  34  34   2   2   3   ...    30  0.000   0   \n",
      "999971  1315  2017   8  15  227  33  33   1   1   3   ...     0  0.000   1   \n",
      "999972  1316  2018   4  30  120  18  18   0   0   2   ...    10  0.100   1   \n",
      "999973  1317  2017   8   1  213  31  31   1   1   3   ...     1  0.000   0   \n",
      "999974  1318  2018   3  21   80  12  12   2   2   1   ...     2  0.000   0   \n",
      "999975  1319  2018   4  26  116  17  17   3   3   2   ...     5  0.000   0   \n",
      "999976  1320  2018   4  18  108  16  16   2   2   2   ...    25  0.000   1   \n",
      "999977  1321  2018   1  22   22   4   4   0   0   1   ...     0  0.000   0   \n",
      "999978  1322  2017  10  13  286  41  41   4   4   4   ...     1  0.166   0   \n",
      "999979  1323  2017   7  31  212  31  31   0   0   3   ...     5  0.000   0   \n",
      "999980  1324  2017   8  30  242  35  35   2   2   3   ...     3  0.000   0   \n",
      "999981  1325  2017   8  21  233  34  34   0   0   3   ...     4  0.000   1   \n",
      "999982  1326  2017  11   6  310  45  45   0   0   4   ...     1  0.000   0   \n",
      "999983  1327  2018   4  12  102  15  15   3   3   2   ...    46  0.000   1   \n",
      "999984  1328  2017   9  29  272  39  39   4   4   3   ...     3  0.000   0   \n",
      "999985  1329  2018   6   1  152  22  22   4   4   2   ...     4  0.000   0   \n",
      "999986  1330  2017  10  23  296  43  43   0   0   4   ...     1  0.000   0   \n",
      "999987  1331  2017  10   5  278  40  40   3   3   4   ...     5  0.000   0   \n",
      "999988  1332  2018   2   1   32   5   5   3   3   1   ...     3  0.000   0   \n",
      "999989  1333  2017  10  25  298  43  43   2   2   4   ...     4  0.000   0   \n",
      "999990  1334  2018   2  27   58   9   9   1   1   1   ...     5  0.000   0   \n",
      "999991  1335  2018   3   8   67  10  10   3   3   1   ...    22  0.000   0   \n",
      "999992  1336  2017   6   6  157  23  23   1   1   2   ...     4  0.000   0   \n",
      "999993  1337  2017  12  29  363  52  52   4   4   4   ...     7  0.000   0   \n",
      "999994  1338  2017   9  12  255  37  37   1   1   3   ...     3  0.500   0   \n",
      "999995  1339  2018   1  17   17   3   3   2   2   1   ...     3  0.000   0   \n",
      "999996  1340  2017  11   7  311  45  45   1   1   4   ...     8  0.333   1   \n",
      "999997  1341  2018   5  30  150  22  22   2   2   2   ...     8  0.000   1   \n",
      "999998  1342  2017   6  28  179  26  26   2   2   2   ...    10  0.000   1   \n",
      "999999  1343  2017   6   8  159  23  23   3   3   2   ...     5  0.000   0   \n",
      "\n",
      "        36   37   38       39        40     41      42  \n",
      "0        7   27   17    21.42    9.0000  83565   50139  \n",
      "1        1  200   41  1266.66   10.3333     63       0  \n",
      "2        4    1    4    33.33    2.8333     30       0  \n",
      "3        7    1    2   100.00    6.0000   4518       0  \n",
      "4        1  216  670    25.23  631.8333    593     100  \n",
      "5       12   26    3    50.00    3.5000  18421   47368  \n",
      "6       13   23   12   -29.41   14.3333      0       0  \n",
      "7        5   87   29    38.09   18.0000  18433       0  \n",
      "8        1  214  560    52.58  361.6666    191     173  \n",
      "9        3   87   14     0.00   14.5000    552       0  \n",
      "10      15  149   33   175.00   13.3333      0       0  \n",
      "11       2  114    2   -50.00    3.6666    184       0  \n",
      "12       8  210    1   -75.00   16.0000     92       0  \n",
      "13       5  167  200   146.91  179.0000    297     158  \n",
      "14      11  171    0     0.00    0.0000      0       0  \n",
      "15       8  216   17    30.76    8.5000      0    1020  \n",
      "16       4  161   31   -29.54   56.1666    768     154  \n",
      "17      14  160   40   700.00   22.3333      0     224  \n",
      "18       1  120   19    18.75   21.3333  11173       0  \n",
      "19       4  120   52   126.08   44.5000   4882     226  \n",
      "20      10   85   26   136.36   14.6666      0     658  \n",
      "21      14  167    1     0.00    1.6666      0       0  \n",
      "22       2  214    1   -83.33    4.8333    109       0  \n",
      "23      15  126    1     0.00    2.0000      0       0  \n",
      "24       9   81    4     0.00    0.8333   5882       0  \n",
      "25       8   78   42   100.00   30.1666      0       0  \n",
      "26       1    1   55    71.87   26.1666  17872       0  \n",
      "27       0  202   12   -14.28   13.5000    257       0  \n",
      "28       8    1    0     0.00    0.0000      0       0  \n",
      "29       3  105    5    25.00    3.8333   1488       0  \n",
      "...     ..  ...  ...      ...       ...    ...     ...  \n",
      "999970   8  214    2   -50.00    3.5000      0      67  \n",
      "999971   0  214    5    66.66    2.8333   1651     330  \n",
      "999972   2  107   15   -58.33   15.5000      0     168  \n",
      "999973   0  160    0     0.00    0.0000      0       0  \n",
      "999974  15   26   27   145.45   17.1666   7363       0  \n",
      "999975   4  120    5   -61.53   10.1666      0       0  \n",
      "999976   8  210    1     0.00    0.6666    211       0  \n",
      "999977   5  161  114   -53.46  233.0000    427     352  \n",
      "999978   8  171   43    -6.52   32.6666      0       0  \n",
      "999979   9   81   25   -35.89   23.5000    582       0  \n",
      "999980   1  167   52   -31.57   89.5000    898     951  \n",
      "999981   7  167    1   -66.66    1.8333      0       0  \n",
      "999982  15   23    3    50.00    3.6666      0       0  \n",
      "999983   1  210   71   -20.22   68.5000    622       0  \n",
      "999984   1   57   30    -9.09   29.3333   2931     340  \n",
      "999985   1   31  137    37.00  105.8333     86     272  \n",
      "999986   1  167   74    39.62   49.1666    145       0  \n",
      "999987   7   81    8   -20.00    6.1666      0       0  \n",
      "999988   6  105   16   -50.00   33.1666   3101   32699  \n",
      "999989   5   81    4   -33.33    5.5000   1721       0  \n",
      "999990   7   81   15   -42.30   50.6666    122     122  \n",
      "999991   1  216  335   -21.72  521.1666   1563     154  \n",
      "999992   0    1    0     0.00    0.0000      0       0  \n",
      "999993   6    0    0     0.00    0.0000      0       0  \n",
      "999994  12  125    2   -81.81    6.0000    843       0  \n",
      "999995   8   81    7   -12.50    8.6666   1850  133673  \n",
      "999996   5  154  286   -28.32  276.1666   2177     845  \n",
      "999997  10   30   42   -44.00   47.5000   4592   38398  \n",
      "999998   5  160  112    57.74  115.6666   2422      84  \n",
      "999999   6  110   20    42.85   23.6666   5223     454  \n",
      "\n",
      "[1000000 rows x 43 columns]\n"
     ]
    }
   ],
   "source": [
    "print(df)"
   ]
  },
  {
   "cell_type": "code",
   "execution_count": 5,
   "metadata": {},
   "outputs": [],
   "source": [
    "# adding the correct column names to the dataset\n",
    "curs.execute(\"SELECT column_name FROM information_schema.columns WHERE table_name like 'dtml_featr_num';\")\n",
    "\n",
    "query_op = curs.fetchall()\n",
    "\n",
    "df_header = list()\n",
    "for i in range(len(query_op)):\n",
    "    df_header.append(query_op[i][0])\n",
    "    \n",
    "# replace the indexes of the dataframe with the correct header columns by renaming them\n",
    "for i in range(len(df.columns)):\n",
    "    df.rename(columns={i:df_header[i]}, inplace=True)"
   ]
  },
  {
   "cell_type": "code",
   "execution_count": 6,
   "metadata": {},
   "outputs": [],
   "source": [
    "del query_op"
   ]
  },
  {
   "cell_type": "code",
   "execution_count": 7,
   "metadata": {},
   "outputs": [
    {
     "data": {
      "text/html": [
       "<div>\n",
       "<style scoped>\n",
       "    .dataframe tbody tr th:only-of-type {\n",
       "        vertical-align: middle;\n",
       "    }\n",
       "\n",
       "    .dataframe tbody tr th {\n",
       "        vertical-align: top;\n",
       "    }\n",
       "\n",
       "    .dataframe thead th {\n",
       "        text-align: right;\n",
       "    }\n",
       "</style>\n",
       "<table border=\"1\" class=\"dataframe\">\n",
       "  <thead>\n",
       "    <tr style=\"text-align: right;\">\n",
       "      <th></th>\n",
       "      <th>index</th>\n",
       "      <th>year</th>\n",
       "      <th>month</th>\n",
       "      <th>day</th>\n",
       "      <th>day_of_year</th>\n",
       "      <th>week</th>\n",
       "      <th>week_of_year</th>\n",
       "      <th>day_of_week</th>\n",
       "      <th>weekday</th>\n",
       "      <th>quarter</th>\n",
       "      <th>...</th>\n",
       "      <th>spec_cng_unknwn</th>\n",
       "      <th>dropin</th>\n",
       "      <th>past_dues</th>\n",
       "      <th>cur_intrn_days</th>\n",
       "      <th>mdl_bld_rate</th>\n",
       "      <th>prev_mnth_record_count</th>\n",
       "      <th>prev_mnth_percent</th>\n",
       "      <th>avg_six_mnth_cnt</th>\n",
       "      <th>shrt_ppm</th>\n",
       "      <th>qa_ppm</th>\n",
       "    </tr>\n",
       "  </thead>\n",
       "  <tbody>\n",
       "    <tr>\n",
       "      <th>0</th>\n",
       "      <td>1344</td>\n",
       "      <td>2018</td>\n",
       "      <td>4</td>\n",
       "      <td>18</td>\n",
       "      <td>108</td>\n",
       "      <td>16</td>\n",
       "      <td>16</td>\n",
       "      <td>2</td>\n",
       "      <td>2</td>\n",
       "      <td>2</td>\n",
       "      <td>...</td>\n",
       "      <td>2</td>\n",
       "      <td>0.0</td>\n",
       "      <td>0</td>\n",
       "      <td>7</td>\n",
       "      <td>27</td>\n",
       "      <td>17</td>\n",
       "      <td>21.42</td>\n",
       "      <td>9.0000</td>\n",
       "      <td>83565</td>\n",
       "      <td>50139</td>\n",
       "    </tr>\n",
       "    <tr>\n",
       "      <th>1</th>\n",
       "      <td>1345</td>\n",
       "      <td>2017</td>\n",
       "      <td>5</td>\n",
       "      <td>24</td>\n",
       "      <td>144</td>\n",
       "      <td>21</td>\n",
       "      <td>21</td>\n",
       "      <td>2</td>\n",
       "      <td>2</td>\n",
       "      <td>2</td>\n",
       "      <td>...</td>\n",
       "      <td>3</td>\n",
       "      <td>0.0</td>\n",
       "      <td>0</td>\n",
       "      <td>1</td>\n",
       "      <td>200</td>\n",
       "      <td>41</td>\n",
       "      <td>1266.66</td>\n",
       "      <td>10.3333</td>\n",
       "      <td>63</td>\n",
       "      <td>0</td>\n",
       "    </tr>\n",
       "    <tr>\n",
       "      <th>2</th>\n",
       "      <td>1346</td>\n",
       "      <td>2017</td>\n",
       "      <td>7</td>\n",
       "      <td>25</td>\n",
       "      <td>206</td>\n",
       "      <td>30</td>\n",
       "      <td>30</td>\n",
       "      <td>1</td>\n",
       "      <td>1</td>\n",
       "      <td>3</td>\n",
       "      <td>...</td>\n",
       "      <td>6</td>\n",
       "      <td>0.0</td>\n",
       "      <td>1</td>\n",
       "      <td>4</td>\n",
       "      <td>1</td>\n",
       "      <td>4</td>\n",
       "      <td>33.33</td>\n",
       "      <td>2.8333</td>\n",
       "      <td>30</td>\n",
       "      <td>0</td>\n",
       "    </tr>\n",
       "    <tr>\n",
       "      <th>3</th>\n",
       "      <td>1347</td>\n",
       "      <td>2018</td>\n",
       "      <td>5</td>\n",
       "      <td>8</td>\n",
       "      <td>128</td>\n",
       "      <td>19</td>\n",
       "      <td>19</td>\n",
       "      <td>1</td>\n",
       "      <td>1</td>\n",
       "      <td>2</td>\n",
       "      <td>...</td>\n",
       "      <td>2</td>\n",
       "      <td>0.0</td>\n",
       "      <td>0</td>\n",
       "      <td>7</td>\n",
       "      <td>1</td>\n",
       "      <td>2</td>\n",
       "      <td>100.00</td>\n",
       "      <td>6.0000</td>\n",
       "      <td>4518</td>\n",
       "      <td>0</td>\n",
       "    </tr>\n",
       "    <tr>\n",
       "      <th>4</th>\n",
       "      <td>1348</td>\n",
       "      <td>2018</td>\n",
       "      <td>1</td>\n",
       "      <td>30</td>\n",
       "      <td>30</td>\n",
       "      <td>5</td>\n",
       "      <td>5</td>\n",
       "      <td>1</td>\n",
       "      <td>1</td>\n",
       "      <td>1</td>\n",
       "      <td>...</td>\n",
       "      <td>7</td>\n",
       "      <td>0.0</td>\n",
       "      <td>1</td>\n",
       "      <td>1</td>\n",
       "      <td>216</td>\n",
       "      <td>670</td>\n",
       "      <td>25.23</td>\n",
       "      <td>631.8333</td>\n",
       "      <td>593</td>\n",
       "      <td>100</td>\n",
       "    </tr>\n",
       "  </tbody>\n",
       "</table>\n",
       "<p>5 rows × 43 columns</p>\n",
       "</div>"
      ],
      "text/plain": [
       "   index  year  month  day  day_of_year  week  week_of_year  day_of_week  \\\n",
       "0   1344  2018      4   18          108    16            16            2   \n",
       "1   1345  2017      5   24          144    21            21            2   \n",
       "2   1346  2017      7   25          206    30            30            1   \n",
       "3   1347  2018      5    8          128    19            19            1   \n",
       "4   1348  2018      1   30           30     5             5            1   \n",
       "\n",
       "   weekday  quarter   ...    spec_cng_unknwn  dropin  past_dues  \\\n",
       "0        2        2   ...                  2     0.0          0   \n",
       "1        2        2   ...                  3     0.0          0   \n",
       "2        1        3   ...                  6     0.0          1   \n",
       "3        1        2   ...                  2     0.0          0   \n",
       "4        1        1   ...                  7     0.0          1   \n",
       "\n",
       "   cur_intrn_days  mdl_bld_rate  prev_mnth_record_count  prev_mnth_percent  \\\n",
       "0               7            27                      17              21.42   \n",
       "1               1           200                      41            1266.66   \n",
       "2               4             1                       4              33.33   \n",
       "3               7             1                       2             100.00   \n",
       "4               1           216                     670              25.23   \n",
       "\n",
       "   avg_six_mnth_cnt  shrt_ppm  qa_ppm  \n",
       "0            9.0000     83565   50139  \n",
       "1           10.3333        63       0  \n",
       "2            2.8333        30       0  \n",
       "3            6.0000      4518       0  \n",
       "4          631.8333       593     100  \n",
       "\n",
       "[5 rows x 43 columns]"
      ]
     },
     "execution_count": 7,
     "metadata": {},
     "output_type": "execute_result"
    }
   ],
   "source": [
    "df.head()"
   ]
  },
  {
   "cell_type": "code",
   "execution_count": 8,
   "metadata": {},
   "outputs": [
    {
     "data": {
      "text/plain": [
       "count    1000000.000000\n",
       "mean      499999.500000\n",
       "std       288675.278933\n",
       "min            0.000000\n",
       "25%       249999.750000\n",
       "50%       499999.500000\n",
       "75%       749999.250000\n",
       "max       999999.000000\n",
       "Name: index, dtype: float64"
      ]
     },
     "execution_count": 8,
     "metadata": {},
     "output_type": "execute_result"
    }
   ],
   "source": [
    "df['index'].describe()"
   ]
  },
  {
   "cell_type": "code",
   "execution_count": 9,
   "metadata": {},
   "outputs": [],
   "source": [
    "# execute SQL queries to the tables within the database\n",
    "curs.execute('select * from dtml_resp_scld;')\n",
    "\n",
    "# query_op = curs.fetchone() # fetches only one record\n",
    "query_op = curs.fetchall()"
   ]
  },
  {
   "cell_type": "code",
   "execution_count": 10,
   "metadata": {},
   "outputs": [],
   "source": [
    "df_y = pd.DataFrame(query_op)"
   ]
  },
  {
   "cell_type": "code",
   "execution_count": 11,
   "metadata": {},
   "outputs": [
    {
     "data": {
      "text/html": [
       "<div>\n",
       "<style scoped>\n",
       "    .dataframe tbody tr th:only-of-type {\n",
       "        vertical-align: middle;\n",
       "    }\n",
       "\n",
       "    .dataframe tbody tr th {\n",
       "        vertical-align: top;\n",
       "    }\n",
       "\n",
       "    .dataframe thead th {\n",
       "        text-align: right;\n",
       "    }\n",
       "</style>\n",
       "<table border=\"1\" class=\"dataframe\">\n",
       "  <thead>\n",
       "    <tr style=\"text-align: right;\">\n",
       "      <th></th>\n",
       "      <th>0</th>\n",
       "      <th>1</th>\n",
       "    </tr>\n",
       "  </thead>\n",
       "  <tbody>\n",
       "    <tr>\n",
       "      <th>0</th>\n",
       "      <td>0</td>\n",
       "      <td>N</td>\n",
       "    </tr>\n",
       "    <tr>\n",
       "      <th>1</th>\n",
       "      <td>1</td>\n",
       "      <td>N</td>\n",
       "    </tr>\n",
       "    <tr>\n",
       "      <th>2</th>\n",
       "      <td>2</td>\n",
       "      <td>N</td>\n",
       "    </tr>\n",
       "    <tr>\n",
       "      <th>3</th>\n",
       "      <td>3</td>\n",
       "      <td>N</td>\n",
       "    </tr>\n",
       "    <tr>\n",
       "      <th>4</th>\n",
       "      <td>4</td>\n",
       "      <td>Y</td>\n",
       "    </tr>\n",
       "  </tbody>\n",
       "</table>\n",
       "</div>"
      ],
      "text/plain": [
       "   0  1\n",
       "0  0  N\n",
       "1  1  N\n",
       "2  2  N\n",
       "3  3  N\n",
       "4  4  Y"
      ]
     },
     "execution_count": 11,
     "metadata": {},
     "output_type": "execute_result"
    }
   ],
   "source": [
    "df_y.head()"
   ]
  },
  {
   "cell_type": "code",
   "execution_count": 13,
   "metadata": {},
   "outputs": [],
   "source": [
    "# adding the correct column names to the dataset\n",
    "curs.execute(\"SELECT column_name FROM information_schema.columns WHERE table_name like 'dtml_resp_scld';\")\n",
    "\n",
    "query_op = curs.fetchall()\n",
    "\n",
    "df_header = list()\n",
    "for i in range(len(query_op)):\n",
    "    df_header.append(query_op[i][0])\n",
    "    \n",
    "# replace the indexes of the dataframe with the correct header columns by renaming them\n",
    "for i in range(len(df_y.columns)):\n",
    "    df_y.rename(columns={i:df_header[i]}, inplace=True)"
   ]
  },
  {
   "cell_type": "code",
   "execution_count": 17,
   "metadata": {},
   "outputs": [
    {
     "data": {
      "text/html": [
       "<div>\n",
       "<style scoped>\n",
       "    .dataframe tbody tr th:only-of-type {\n",
       "        vertical-align: middle;\n",
       "    }\n",
       "\n",
       "    .dataframe tbody tr th {\n",
       "        vertical-align: top;\n",
       "    }\n",
       "\n",
       "    .dataframe thead th {\n",
       "        text-align: right;\n",
       "    }\n",
       "</style>\n",
       "<table border=\"1\" class=\"dataframe\">\n",
       "  <thead>\n",
       "    <tr style=\"text-align: right;\">\n",
       "      <th></th>\n",
       "      <th>index</th>\n",
       "      <th>sr_flag</th>\n",
       "    </tr>\n",
       "  </thead>\n",
       "  <tbody>\n",
       "    <tr>\n",
       "      <th>0</th>\n",
       "      <td>0</td>\n",
       "      <td>0</td>\n",
       "    </tr>\n",
       "    <tr>\n",
       "      <th>1</th>\n",
       "      <td>1</td>\n",
       "      <td>0</td>\n",
       "    </tr>\n",
       "    <tr>\n",
       "      <th>2</th>\n",
       "      <td>2</td>\n",
       "      <td>0</td>\n",
       "    </tr>\n",
       "    <tr>\n",
       "      <th>3</th>\n",
       "      <td>3</td>\n",
       "      <td>0</td>\n",
       "    </tr>\n",
       "    <tr>\n",
       "      <th>4</th>\n",
       "      <td>4</td>\n",
       "      <td>1</td>\n",
       "    </tr>\n",
       "  </tbody>\n",
       "</table>\n",
       "</div>"
      ],
      "text/plain": [
       "   index  sr_flag\n",
       "0      0        0\n",
       "1      1        0\n",
       "2      2        0\n",
       "3      3        0\n",
       "4      4        1"
      ]
     },
     "execution_count": 17,
     "metadata": {},
     "output_type": "execute_result"
    }
   ],
   "source": [
    "df_y.head()"
   ]
  },
  {
   "cell_type": "code",
   "execution_count": 16,
   "metadata": {},
   "outputs": [],
   "source": [
    "import numpy as np\n",
    "\n",
    "df_y['sr_flag'] = df_y['sr_flag'].apply(lambda x: np.where(x=='N',0,1))"
   ]
  },
  {
   "cell_type": "code",
   "execution_count": 18,
   "metadata": {},
   "outputs": [
    {
     "data": {
      "text/plain": [
       "['index',\n",
       " 'year',\n",
       " 'month',\n",
       " 'day',\n",
       " 'day_of_year',\n",
       " 'week',\n",
       " 'week_of_year',\n",
       " 'day_of_week',\n",
       " 'weekday',\n",
       " 'quarter',\n",
       " 'id',\n",
       " 'vndr_id',\n",
       " 'item_no',\n",
       " 'loc',\n",
       " 'crfa_c',\n",
       " 'crfa_r',\n",
       " 'crfa_f',\n",
       " 'crfa_a',\n",
       " 'eoq',\n",
       " 'pkg_qty',\n",
       " 'outproc_flag',\n",
       " 'score_edi_instability_avg',\n",
       " 'order_edi_instability_positive_only_avg',\n",
       " 'fulfillment_rate_2wkavg',\n",
       " 'spec_cng_elem',\n",
       " 'spec_cng_fpe',\n",
       " 'spec_cng_mrp',\n",
       " 'spec_cng_oh_adj',\n",
       " 'spec_cng_pcts',\n",
       " 'spec_cng_peg',\n",
       " 'spec_cng_por_asn',\n",
       " 'spec_cng_potr',\n",
       " 'spec_cng_sched',\n",
       " 'spec_cng_unknwn',\n",
       " 'dropin',\n",
       " 'past_dues',\n",
       " 'cur_intrn_days',\n",
       " 'mdl_bld_rate',\n",
       " 'prev_mnth_record_count',\n",
       " 'prev_mnth_percent',\n",
       " 'avg_six_mnth_cnt',\n",
       " 'shrt_ppm',\n",
       " 'qa_ppm']"
      ]
     },
     "execution_count": 18,
     "metadata": {},
     "output_type": "execute_result"
    }
   ],
   "source": [
    "list(df)"
   ]
  },
  {
   "cell_type": "code",
   "execution_count": 19,
   "metadata": {},
   "outputs": [],
   "source": [
    "df = df.drop('id', axis='columns')"
   ]
  },
  {
   "cell_type": "code",
   "execution_count": 20,
   "metadata": {},
   "outputs": [
    {
     "data": {
      "text/plain": [
       "['index',\n",
       " 'year',\n",
       " 'month',\n",
       " 'day',\n",
       " 'day_of_year',\n",
       " 'week',\n",
       " 'week_of_year',\n",
       " 'day_of_week',\n",
       " 'weekday',\n",
       " 'quarter',\n",
       " 'vndr_id',\n",
       " 'item_no',\n",
       " 'loc',\n",
       " 'crfa_c',\n",
       " 'crfa_r',\n",
       " 'crfa_f',\n",
       " 'crfa_a',\n",
       " 'eoq',\n",
       " 'pkg_qty',\n",
       " 'outproc_flag',\n",
       " 'score_edi_instability_avg',\n",
       " 'order_edi_instability_positive_only_avg',\n",
       " 'fulfillment_rate_2wkavg',\n",
       " 'spec_cng_elem',\n",
       " 'spec_cng_fpe',\n",
       " 'spec_cng_mrp',\n",
       " 'spec_cng_oh_adj',\n",
       " 'spec_cng_pcts',\n",
       " 'spec_cng_peg',\n",
       " 'spec_cng_por_asn',\n",
       " 'spec_cng_potr',\n",
       " 'spec_cng_sched',\n",
       " 'spec_cng_unknwn',\n",
       " 'dropin',\n",
       " 'past_dues',\n",
       " 'cur_intrn_days',\n",
       " 'mdl_bld_rate',\n",
       " 'prev_mnth_record_count',\n",
       " 'prev_mnth_percent',\n",
       " 'avg_six_mnth_cnt',\n",
       " 'shrt_ppm',\n",
       " 'qa_ppm']"
      ]
     },
     "execution_count": 20,
     "metadata": {},
     "output_type": "execute_result"
    }
   ],
   "source": [
    "list(df)"
   ]
  },
  {
   "cell_type": "code",
   "execution_count": 21,
   "metadata": {},
   "outputs": [
    {
     "name": "stdout",
     "output_type": "stream",
     "text": [
      "(1000000, 42)\n",
      "(1000000, 2)\n"
     ]
    }
   ],
   "source": [
    "print(df.shape)\n",
    "print(df_y.shape)"
   ]
  },
  {
   "cell_type": "code",
   "execution_count": 23,
   "metadata": {
    "collapsed": true
   },
   "outputs": [
    {
     "ename": "KeyError",
     "evalue": "\"labels ['index'] not contained in axis\"",
     "output_type": "error",
     "traceback": [
      "\u001b[0;31m---------------------------------------------------------------------------\u001b[0m",
      "\u001b[0;31mKeyError\u001b[0m                                  Traceback (most recent call last)",
      "\u001b[0;32m<ipython-input-23-74c3f2585efd>\u001b[0m in \u001b[0;36m<module>\u001b[0;34m()\u001b[0m\n\u001b[0;32m----> 1\u001b[0;31m \u001b[0mdf\u001b[0m \u001b[0;34m=\u001b[0m \u001b[0mdf\u001b[0m\u001b[0;34m.\u001b[0m\u001b[0mdrop\u001b[0m\u001b[0;34m(\u001b[0m\u001b[0;34m'index'\u001b[0m\u001b[0;34m,\u001b[0m \u001b[0maxis\u001b[0m\u001b[0;34m=\u001b[0m\u001b[0;34m'columns'\u001b[0m\u001b[0;34m)\u001b[0m\u001b[0;34m\u001b[0m\u001b[0m\n\u001b[0m\u001b[1;32m      2\u001b[0m \u001b[0mdf_y\u001b[0m \u001b[0;34m=\u001b[0m \u001b[0mdf_y\u001b[0m\u001b[0;34m.\u001b[0m\u001b[0mdrop\u001b[0m\u001b[0;34m(\u001b[0m\u001b[0;34m'index'\u001b[0m\u001b[0;34m,\u001b[0m \u001b[0maxis\u001b[0m\u001b[0;34m=\u001b[0m\u001b[0;34m'columns'\u001b[0m\u001b[0;34m)\u001b[0m\u001b[0;34m\u001b[0m\u001b[0m\n",
      "\u001b[0;32m~/anaconda3/lib/python3.6/site-packages/pandas/core/frame.py\u001b[0m in \u001b[0;36mdrop\u001b[0;34m(self, labels, axis, index, columns, level, inplace, errors)\u001b[0m\n\u001b[1;32m   3692\u001b[0m                                            \u001b[0mindex\u001b[0m\u001b[0;34m=\u001b[0m\u001b[0mindex\u001b[0m\u001b[0;34m,\u001b[0m \u001b[0mcolumns\u001b[0m\u001b[0;34m=\u001b[0m\u001b[0mcolumns\u001b[0m\u001b[0;34m,\u001b[0m\u001b[0;34m\u001b[0m\u001b[0m\n\u001b[1;32m   3693\u001b[0m                                            \u001b[0mlevel\u001b[0m\u001b[0;34m=\u001b[0m\u001b[0mlevel\u001b[0m\u001b[0;34m,\u001b[0m \u001b[0minplace\u001b[0m\u001b[0;34m=\u001b[0m\u001b[0minplace\u001b[0m\u001b[0;34m,\u001b[0m\u001b[0;34m\u001b[0m\u001b[0m\n\u001b[0;32m-> 3694\u001b[0;31m                                            errors=errors)\n\u001b[0m\u001b[1;32m   3695\u001b[0m \u001b[0;34m\u001b[0m\u001b[0m\n\u001b[1;32m   3696\u001b[0m     @rewrite_axis_style_signature('mapper', [('copy', True),\n",
      "\u001b[0;32m~/anaconda3/lib/python3.6/site-packages/pandas/core/generic.py\u001b[0m in \u001b[0;36mdrop\u001b[0;34m(self, labels, axis, index, columns, level, inplace, errors)\u001b[0m\n\u001b[1;32m   3106\u001b[0m         \u001b[0;32mfor\u001b[0m \u001b[0maxis\u001b[0m\u001b[0;34m,\u001b[0m \u001b[0mlabels\u001b[0m \u001b[0;32min\u001b[0m \u001b[0maxes\u001b[0m\u001b[0;34m.\u001b[0m\u001b[0mitems\u001b[0m\u001b[0;34m(\u001b[0m\u001b[0;34m)\u001b[0m\u001b[0;34m:\u001b[0m\u001b[0;34m\u001b[0m\u001b[0m\n\u001b[1;32m   3107\u001b[0m             \u001b[0;32mif\u001b[0m \u001b[0mlabels\u001b[0m \u001b[0;32mis\u001b[0m \u001b[0;32mnot\u001b[0m \u001b[0;32mNone\u001b[0m\u001b[0;34m:\u001b[0m\u001b[0;34m\u001b[0m\u001b[0m\n\u001b[0;32m-> 3108\u001b[0;31m                 \u001b[0mobj\u001b[0m \u001b[0;34m=\u001b[0m \u001b[0mobj\u001b[0m\u001b[0;34m.\u001b[0m\u001b[0m_drop_axis\u001b[0m\u001b[0;34m(\u001b[0m\u001b[0mlabels\u001b[0m\u001b[0;34m,\u001b[0m \u001b[0maxis\u001b[0m\u001b[0;34m,\u001b[0m \u001b[0mlevel\u001b[0m\u001b[0;34m=\u001b[0m\u001b[0mlevel\u001b[0m\u001b[0;34m,\u001b[0m \u001b[0merrors\u001b[0m\u001b[0;34m=\u001b[0m\u001b[0merrors\u001b[0m\u001b[0;34m)\u001b[0m\u001b[0;34m\u001b[0m\u001b[0m\n\u001b[0m\u001b[1;32m   3109\u001b[0m \u001b[0;34m\u001b[0m\u001b[0m\n\u001b[1;32m   3110\u001b[0m         \u001b[0;32mif\u001b[0m \u001b[0minplace\u001b[0m\u001b[0;34m:\u001b[0m\u001b[0;34m\u001b[0m\u001b[0m\n",
      "\u001b[0;32m~/anaconda3/lib/python3.6/site-packages/pandas/core/generic.py\u001b[0m in \u001b[0;36m_drop_axis\u001b[0;34m(self, labels, axis, level, errors)\u001b[0m\n\u001b[1;32m   3138\u001b[0m                 \u001b[0mnew_axis\u001b[0m \u001b[0;34m=\u001b[0m \u001b[0maxis\u001b[0m\u001b[0;34m.\u001b[0m\u001b[0mdrop\u001b[0m\u001b[0;34m(\u001b[0m\u001b[0mlabels\u001b[0m\u001b[0;34m,\u001b[0m \u001b[0mlevel\u001b[0m\u001b[0;34m=\u001b[0m\u001b[0mlevel\u001b[0m\u001b[0;34m,\u001b[0m \u001b[0merrors\u001b[0m\u001b[0;34m=\u001b[0m\u001b[0merrors\u001b[0m\u001b[0;34m)\u001b[0m\u001b[0;34m\u001b[0m\u001b[0m\n\u001b[1;32m   3139\u001b[0m             \u001b[0;32melse\u001b[0m\u001b[0;34m:\u001b[0m\u001b[0;34m\u001b[0m\u001b[0m\n\u001b[0;32m-> 3140\u001b[0;31m                 \u001b[0mnew_axis\u001b[0m \u001b[0;34m=\u001b[0m \u001b[0maxis\u001b[0m\u001b[0;34m.\u001b[0m\u001b[0mdrop\u001b[0m\u001b[0;34m(\u001b[0m\u001b[0mlabels\u001b[0m\u001b[0;34m,\u001b[0m \u001b[0merrors\u001b[0m\u001b[0;34m=\u001b[0m\u001b[0merrors\u001b[0m\u001b[0;34m)\u001b[0m\u001b[0;34m\u001b[0m\u001b[0m\n\u001b[0m\u001b[1;32m   3141\u001b[0m             \u001b[0mdropped\u001b[0m \u001b[0;34m=\u001b[0m \u001b[0mself\u001b[0m\u001b[0;34m.\u001b[0m\u001b[0mreindex\u001b[0m\u001b[0;34m(\u001b[0m\u001b[0;34m**\u001b[0m\u001b[0;34m{\u001b[0m\u001b[0maxis_name\u001b[0m\u001b[0;34m:\u001b[0m \u001b[0mnew_axis\u001b[0m\u001b[0;34m}\u001b[0m\u001b[0;34m)\u001b[0m\u001b[0;34m\u001b[0m\u001b[0m\n\u001b[1;32m   3142\u001b[0m             \u001b[0;32mtry\u001b[0m\u001b[0;34m:\u001b[0m\u001b[0;34m\u001b[0m\u001b[0m\n",
      "\u001b[0;32m~/anaconda3/lib/python3.6/site-packages/pandas/core/indexes/base.py\u001b[0m in \u001b[0;36mdrop\u001b[0;34m(self, labels, errors)\u001b[0m\n\u001b[1;32m   4385\u001b[0m             \u001b[0;32mif\u001b[0m \u001b[0merrors\u001b[0m \u001b[0;34m!=\u001b[0m \u001b[0;34m'ignore'\u001b[0m\u001b[0;34m:\u001b[0m\u001b[0;34m\u001b[0m\u001b[0m\n\u001b[1;32m   4386\u001b[0m                 raise KeyError(\n\u001b[0;32m-> 4387\u001b[0;31m                     'labels %s not contained in axis' % labels[mask])\n\u001b[0m\u001b[1;32m   4388\u001b[0m             \u001b[0mindexer\u001b[0m \u001b[0;34m=\u001b[0m \u001b[0mindexer\u001b[0m\u001b[0;34m[\u001b[0m\u001b[0;34m~\u001b[0m\u001b[0mmask\u001b[0m\u001b[0;34m]\u001b[0m\u001b[0;34m\u001b[0m\u001b[0m\n\u001b[1;32m   4389\u001b[0m         \u001b[0;32mreturn\u001b[0m \u001b[0mself\u001b[0m\u001b[0;34m.\u001b[0m\u001b[0mdelete\u001b[0m\u001b[0;34m(\u001b[0m\u001b[0mindexer\u001b[0m\u001b[0;34m)\u001b[0m\u001b[0;34m\u001b[0m\u001b[0m\n",
      "\u001b[0;31mKeyError\u001b[0m: \"labels ['index'] not contained in axis\""
     ]
    }
   ],
   "source": [
    "df = df.drop('index', axis='columns')\n",
    "df_y = df_y.drop('index', axis='columns')"
   ]
  },
  {
   "cell_type": "code",
   "execution_count": 27,
   "metadata": {},
   "outputs": [
    {
     "name": "stdout",
     "output_type": "stream",
     "text": [
      "['year', 'month', 'day', 'day_of_year', 'week', 'week_of_year', 'day_of_week', 'weekday', 'quarter', 'vndr_id', 'item_no', 'loc', 'crfa_c', 'crfa_r', 'crfa_f', 'crfa_a', 'eoq', 'pkg_qty', 'outproc_flag', 'score_edi_instability_avg', 'order_edi_instability_positive_only_avg', 'fulfillment_rate_2wkavg', 'spec_cng_elem', 'spec_cng_fpe', 'spec_cng_mrp', 'spec_cng_oh_adj', 'spec_cng_pcts', 'spec_cng_peg', 'spec_cng_por_asn', 'spec_cng_potr', 'spec_cng_sched', 'spec_cng_unknwn', 'dropin', 'past_dues', 'cur_intrn_days', 'mdl_bld_rate', 'prev_mnth_record_count', 'prev_mnth_percent', 'avg_six_mnth_cnt', 'shrt_ppm', 'qa_ppm']\n",
      "['sr_flag']\n"
     ]
    }
   ],
   "source": [
    "print(list(df))\n",
    "print(list(df_y))"
   ]
  },
  {
   "cell_type": "code",
   "execution_count": 26,
   "metadata": {},
   "outputs": [],
   "source": [
    "df_y = df_y.drop('index', axis='columns')"
   ]
  },
  {
   "cell_type": "code",
   "execution_count": 28,
   "metadata": {},
   "outputs": [
    {
     "name": "stdout",
     "output_type": "stream",
     "text": [
      "(1000000, 41)\n",
      "(1000000, 1)\n"
     ]
    }
   ],
   "source": [
    "print(df.shape)\n",
    "print(df_y.shape)"
   ]
  },
  {
   "cell_type": "code",
   "execution_count": 33,
   "metadata": {},
   "outputs": [],
   "source": [
    "# getting to the feature matrix and response variable y\n",
    "X = pd.DataFrame(df.copy())\n",
    "y = df_y.T.squeeze()"
   ]
  },
  {
   "cell_type": "code",
   "execution_count": 34,
   "metadata": {},
   "outputs": [
    {
     "name": "stdout",
     "output_type": "stream",
     "text": [
      "<class 'pandas.core.frame.DataFrame'>\n",
      "<class 'pandas.core.series.Series'>\n"
     ]
    }
   ],
   "source": [
    "print(type(X))\n",
    "print(type(y))"
   ]
  },
  {
   "cell_type": "code",
   "execution_count": 35,
   "metadata": {},
   "outputs": [
    {
     "name": "stdout",
     "output_type": "stream",
     "text": [
      "(1000000, 41)\n",
      "(1000000, 1)\n"
     ]
    }
   ],
   "source": [
    "print(df.shape)\n",
    "print(df_y.shape)"
   ]
  },
  {
   "cell_type": "code",
   "execution_count": 36,
   "metadata": {},
   "outputs": [
    {
     "name": "stdout",
     "output_type": "stream",
     "text": [
      "   sr_flag\n",
      "0        0\n",
      "1        0\n",
      "2        0\n",
      "3        0\n",
      "4        1\n"
     ]
    }
   ],
   "source": [
    "print(df_y.head())"
   ]
  },
  {
   "cell_type": "code",
   "execution_count": 38,
   "metadata": {},
   "outputs": [
    {
     "ename": "ValueError",
     "evalue": "Input X must be non-negative.",
     "output_type": "error",
     "traceback": [
      "\u001b[0;31m---------------------------------------------------------------------------\u001b[0m",
      "\u001b[0;31mValueError\u001b[0m                                Traceback (most recent call last)",
      "\u001b[0;32m<ipython-input-38-5ba3f0e2b688>\u001b[0m in \u001b[0;36m<module>\u001b[0;34m()\u001b[0m\n\u001b[1;32m      4\u001b[0m \u001b[0;32mfrom\u001b[0m \u001b[0msklearn\u001b[0m\u001b[0;34m.\u001b[0m\u001b[0mfeature_selection\u001b[0m \u001b[0;32mimport\u001b[0m \u001b[0mchi2\u001b[0m\u001b[0;34m\u001b[0m\u001b[0m\n\u001b[1;32m      5\u001b[0m \u001b[0;34m\u001b[0m\u001b[0m\n\u001b[0;32m----> 6\u001b[0;31m \u001b[0mX_selected\u001b[0m \u001b[0;34m=\u001b[0m \u001b[0mSelectKBest\u001b[0m\u001b[0;34m(\u001b[0m\u001b[0mchi2\u001b[0m\u001b[0;34m,\u001b[0m \u001b[0mk\u001b[0m\u001b[0;34m=\u001b[0m\u001b[0;36m41\u001b[0m\u001b[0;34m)\u001b[0m\u001b[0;34m.\u001b[0m\u001b[0mfit_transform\u001b[0m\u001b[0;34m(\u001b[0m\u001b[0mX\u001b[0m\u001b[0;34m,\u001b[0m \u001b[0my\u001b[0m\u001b[0;34m)\u001b[0m\u001b[0;34m\u001b[0m\u001b[0m\n\u001b[0m",
      "\u001b[0;32m~/anaconda3/lib/python3.6/site-packages/sklearn/base.py\u001b[0m in \u001b[0;36mfit_transform\u001b[0;34m(self, X, y, **fit_params)\u001b[0m\n\u001b[1;32m    518\u001b[0m         \u001b[0;32melse\u001b[0m\u001b[0;34m:\u001b[0m\u001b[0;34m\u001b[0m\u001b[0m\n\u001b[1;32m    519\u001b[0m             \u001b[0;31m# fit method of arity 2 (supervised transformation)\u001b[0m\u001b[0;34m\u001b[0m\u001b[0;34m\u001b[0m\u001b[0m\n\u001b[0;32m--> 520\u001b[0;31m             \u001b[0;32mreturn\u001b[0m \u001b[0mself\u001b[0m\u001b[0;34m.\u001b[0m\u001b[0mfit\u001b[0m\u001b[0;34m(\u001b[0m\u001b[0mX\u001b[0m\u001b[0;34m,\u001b[0m \u001b[0my\u001b[0m\u001b[0;34m,\u001b[0m \u001b[0;34m**\u001b[0m\u001b[0mfit_params\u001b[0m\u001b[0;34m)\u001b[0m\u001b[0;34m.\u001b[0m\u001b[0mtransform\u001b[0m\u001b[0;34m(\u001b[0m\u001b[0mX\u001b[0m\u001b[0;34m)\u001b[0m\u001b[0;34m\u001b[0m\u001b[0m\n\u001b[0m\u001b[1;32m    521\u001b[0m \u001b[0;34m\u001b[0m\u001b[0m\n\u001b[1;32m    522\u001b[0m \u001b[0;34m\u001b[0m\u001b[0m\n",
      "\u001b[0;32m~/anaconda3/lib/python3.6/site-packages/sklearn/feature_selection/univariate_selection.py\u001b[0m in \u001b[0;36mfit\u001b[0;34m(self, X, y)\u001b[0m\n\u001b[1;32m    347\u001b[0m \u001b[0;34m\u001b[0m\u001b[0m\n\u001b[1;32m    348\u001b[0m         \u001b[0mself\u001b[0m\u001b[0;34m.\u001b[0m\u001b[0m_check_params\u001b[0m\u001b[0;34m(\u001b[0m\u001b[0mX\u001b[0m\u001b[0;34m,\u001b[0m \u001b[0my\u001b[0m\u001b[0;34m)\u001b[0m\u001b[0;34m\u001b[0m\u001b[0m\n\u001b[0;32m--> 349\u001b[0;31m         \u001b[0mscore_func_ret\u001b[0m \u001b[0;34m=\u001b[0m \u001b[0mself\u001b[0m\u001b[0;34m.\u001b[0m\u001b[0mscore_func\u001b[0m\u001b[0;34m(\u001b[0m\u001b[0mX\u001b[0m\u001b[0;34m,\u001b[0m \u001b[0my\u001b[0m\u001b[0;34m)\u001b[0m\u001b[0;34m\u001b[0m\u001b[0m\n\u001b[0m\u001b[1;32m    350\u001b[0m         \u001b[0;32mif\u001b[0m \u001b[0misinstance\u001b[0m\u001b[0;34m(\u001b[0m\u001b[0mscore_func_ret\u001b[0m\u001b[0;34m,\u001b[0m \u001b[0;34m(\u001b[0m\u001b[0mlist\u001b[0m\u001b[0;34m,\u001b[0m \u001b[0mtuple\u001b[0m\u001b[0;34m)\u001b[0m\u001b[0;34m)\u001b[0m\u001b[0;34m:\u001b[0m\u001b[0;34m\u001b[0m\u001b[0m\n\u001b[1;32m    351\u001b[0m             \u001b[0mself\u001b[0m\u001b[0;34m.\u001b[0m\u001b[0mscores_\u001b[0m\u001b[0;34m,\u001b[0m \u001b[0mself\u001b[0m\u001b[0;34m.\u001b[0m\u001b[0mpvalues_\u001b[0m \u001b[0;34m=\u001b[0m \u001b[0mscore_func_ret\u001b[0m\u001b[0;34m\u001b[0m\u001b[0m\n",
      "\u001b[0;32m~/anaconda3/lib/python3.6/site-packages/sklearn/feature_selection/univariate_selection.py\u001b[0m in \u001b[0;36mchi2\u001b[0;34m(X, y)\u001b[0m\n\u001b[1;32m    213\u001b[0m     \u001b[0mX\u001b[0m \u001b[0;34m=\u001b[0m \u001b[0mcheck_array\u001b[0m\u001b[0;34m(\u001b[0m\u001b[0mX\u001b[0m\u001b[0;34m,\u001b[0m \u001b[0maccept_sparse\u001b[0m\u001b[0;34m=\u001b[0m\u001b[0;34m'csr'\u001b[0m\u001b[0;34m)\u001b[0m\u001b[0;34m\u001b[0m\u001b[0m\n\u001b[1;32m    214\u001b[0m     \u001b[0;32mif\u001b[0m \u001b[0mnp\u001b[0m\u001b[0;34m.\u001b[0m\u001b[0many\u001b[0m\u001b[0;34m(\u001b[0m\u001b[0;34m(\u001b[0m\u001b[0mX\u001b[0m\u001b[0;34m.\u001b[0m\u001b[0mdata\u001b[0m \u001b[0;32mif\u001b[0m \u001b[0missparse\u001b[0m\u001b[0;34m(\u001b[0m\u001b[0mX\u001b[0m\u001b[0;34m)\u001b[0m \u001b[0;32melse\u001b[0m \u001b[0mX\u001b[0m\u001b[0;34m)\u001b[0m \u001b[0;34m<\u001b[0m \u001b[0;36m0\u001b[0m\u001b[0;34m)\u001b[0m\u001b[0;34m:\u001b[0m\u001b[0;34m\u001b[0m\u001b[0m\n\u001b[0;32m--> 215\u001b[0;31m         \u001b[0;32mraise\u001b[0m \u001b[0mValueError\u001b[0m\u001b[0;34m(\u001b[0m\u001b[0;34m\"Input X must be non-negative.\"\u001b[0m\u001b[0;34m)\u001b[0m\u001b[0;34m\u001b[0m\u001b[0m\n\u001b[0m\u001b[1;32m    216\u001b[0m \u001b[0;34m\u001b[0m\u001b[0m\n\u001b[1;32m    217\u001b[0m     \u001b[0mY\u001b[0m \u001b[0;34m=\u001b[0m \u001b[0mLabelBinarizer\u001b[0m\u001b[0;34m(\u001b[0m\u001b[0;34m)\u001b[0m\u001b[0;34m.\u001b[0m\u001b[0mfit_transform\u001b[0m\u001b[0;34m(\u001b[0m\u001b[0my\u001b[0m\u001b[0;34m)\u001b[0m\u001b[0;34m\u001b[0m\u001b[0m\n",
      "\u001b[0;31mValueError\u001b[0m: Input X must be non-negative."
     ]
    }
   ],
   "source": [
    "# feature selection\n",
    "# univariate feature selection\n",
    "from sklearn.feature_selection import SelectKBest\n",
    "from sklearn.feature_selection import chi2\n",
    "\n",
    "X_selected = SelectKBest(chi2, k=41).fit_transform(X, y)"
   ]
  },
  {
   "cell_type": "code",
   "execution_count": null,
   "metadata": {},
   "outputs": [],
   "source": []
  }
 ],
 "metadata": {
  "kernelspec": {
   "display_name": "Python 3",
   "language": "python",
   "name": "python3"
  },
  "language_info": {
   "codemirror_mode": {
    "name": "ipython",
    "version": 3
   },
   "file_extension": ".py",
   "mimetype": "text/x-python",
   "name": "python",
   "nbconvert_exporter": "python",
   "pygments_lexer": "ipython3",
   "version": "3.6.5"
  }
 },
 "nbformat": 4,
 "nbformat_minor": 2
}
