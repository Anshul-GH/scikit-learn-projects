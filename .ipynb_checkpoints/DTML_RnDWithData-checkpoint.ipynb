{
 "cells": [
  {
   "cell_type": "code",
   "execution_count": 9,
   "metadata": {},
   "outputs": [],
   "source": [
    "# The first step is to get the pymongo drivers installed\n",
    "# $ python -m pip install pymongo\n",
    "\n",
    "# connect to pymongo and import the MongoClient class\n",
    "from pymongo import MongoClient"
   ]
  },
  {
   "cell_type": "code",
   "execution_count": 10,
   "metadata": {},
   "outputs": [],
   "source": [
    "# initiallize MongoClient object type. This connects to the locally hosted instance of MongoDB\n",
    "client = MongoClient()"
   ]
  },
  {
   "cell_type": "code",
   "execution_count": 13,
   "metadata": {},
   "outputs": [],
   "source": [
    "# connect to the relevant MongoDB collection / database\n",
    "db = client.MyMongoDB"
   ]
  },
  {
   "cell_type": "code",
   "execution_count": 14,
   "metadata": {},
   "outputs": [
    {
     "name": "stdout",
     "output_type": "stream",
     "text": [
      "<class 'pymongo.database.Database'>\n",
      "Collection(Database(MongoClient(host=['localhost:27017'], document_class=dict, tz_aware=False, connect=True), 'MyMongoDB'), 'shape')\n"
     ]
    }
   ],
   "source": [
    "print(type(db))\n",
    "print(db.shape)"
   ]
  },
  {
   "cell_type": "code",
   "execution_count": 5,
   "metadata": {},
   "outputs": [],
   "source": [
    "# import pymongo\n",
    "# import pandas as pd\n",
    "# from pymongo import MongoClient\n",
    "# client = MongoClient()\n",
    "# db = client.database_name\n",
    "# collection = db.collection_name\n",
    "# data = pd.DataFrame(list(collection.find()))"
   ]
  },
  {
   "cell_type": "code",
   "execution_count": 15,
   "metadata": {},
   "outputs": [
    {
     "name": "stdout",
     "output_type": "stream",
     "text": [
      "5049841\n",
      "   AVG_SIX_MNTH_CNT    CAL_DATE  CRFA_A CRFA_C  CRFA_F  CRFA_R  \\\n",
      "0           10.8333  2017-11-06       2      S       1       9   \n",
      "1            4.3333  2018-04-24       2      S       1       9   \n",
      "2            2.0000  2018-05-07       2      S       1       9   \n",
      "3            2.5000  2017-10-18       2      S       1       9   \n",
      "4           73.0000  2017-12-06       2      S       1       9   \n",
      "5           47.8333  2018-02-19       2      S       1       9   \n",
      "6           58.1666  2018-04-16       2      S       1       9   \n",
      "7           54.6666  2017-06-21       2      S       1       9   \n",
      "8            3.3333  2017-11-13       2      S       1       9   \n",
      "9            0.0000  2017-05-24       2      S       4       9   \n",
      "\n",
      "   CUR_INTRN_DAYS  DROPIN  EOQ FULFILLMENT_RATE_2WKAVG  \\\n",
      "0               2   0.333    1                  (null)   \n",
      "1               7   0.000    0                  (null)   \n",
      "2              13   0.000    1                       1   \n",
      "3              12   0.000    1                  (null)   \n",
      "4               2   0.000    5                   0.666   \n",
      "5              12   0.000    1                       1   \n",
      "6              11   0.000    1                  (null)   \n",
      "7              11   0.250    1                  (null)   \n",
      "8               7   0.000    1                     0.5   \n",
      "9              15   0.000    1                  (null)   \n",
      "\n",
      "             ...            SPEC_CNG_OH_ADJ  SPEC_CNG_PCTS  SPEC_CNG_PEG  \\\n",
      "0            ...                          0              0             0   \n",
      "1            ...                          0              3           218   \n",
      "2            ...                          0              0             0   \n",
      "3            ...                          0              0             0   \n",
      "4            ...                          0              0             0   \n",
      "5            ...                          0              0             0   \n",
      "6            ...                          0              0             0   \n",
      "7            ...                          0              0             0   \n",
      "8            ...                          0              0             0   \n",
      "9            ...                          0              0             0   \n",
      "\n",
      "   SPEC_CNG_POR_ASN SPEC_CNG_POTR  SPEC_CNG_SCHED  SPEC_CNG_UNKNWN  SR_FLAG  \\\n",
      "0                 0             0               0                4        N   \n",
      "1                 0             0             798                5        N   \n",
      "2                 0             0              19                2        N   \n",
      "3                 0             0              20                2        N   \n",
      "4                 0             0               0                3        Y   \n",
      "5                 0             0              12                2        N   \n",
      "6                 0             0              39               10        N   \n",
      "7                 0             0               8               11        N   \n",
      "8                 0             0               0                0        N   \n",
      "9                 0             0               6                1        N   \n",
      "\n",
      "   VNDR_ID                       _id  \n",
      "0     AD98  5b6cbb7f6eb9a7941f402cf0  \n",
      "1     AD98  5b6cbb7f6eb9a7941f402cf1  \n",
      "2     DN 4  5b6cbb7f6eb9a7941f402cf2  \n",
      "3     Z582  5b6cbb7f6eb9a7941f402cf3  \n",
      "4     T606  5b6cbb7f6eb9a7941f402cf4  \n",
      "5     JK65  5b6cbb7f6eb9a7941f402cf5  \n",
      "6     ASC3  5b6cbb7f6eb9a7941f402cf6  \n",
      "7     ASC3  5b6cbb7f6eb9a7941f402cf7  \n",
      "8     B682  5b6cbb7f6eb9a7941f402cf8  \n",
      "9      PYI  5b6cbb7f6eb9a7941f402cf9  \n",
      "\n",
      "[10 rows x 35 columns]\n"
     ]
    },
    {
     "name": "stderr",
     "output_type": "stream",
     "text": [
      "/home/anshul/anaconda3/lib/python3.6/site-packages/ipykernel_launcher.py:14: DeprecationWarning: count is deprecated. Use estimated_document_count or count_documents instead. Please note that $where must be replaced by $expr, $near must be replaced by $geoWithin with $center, and $nearSphere must be replaced by $geoWithin with $centerSphere\n",
      "  \n"
     ]
    }
   ],
   "source": [
    "# from pymongo import MongoClient\n",
    "import pandas as pd\n",
    "\n",
    "# initialize the object to connect\n",
    "client = MongoClient()\n",
    "\n",
    "# connect to the MongoDB instance\n",
    "db = client.MyMongoDB\n",
    "\n",
    "# connect to the required collection (name for Tables in MongoDB)\n",
    "collection = db.DTML_Master\n",
    "\n",
    "# count the total number of records within the collection\n",
    "count = collection.count() # 5049841\n",
    "# print(count)\n",
    "\n",
    "# from the collection, read the data into a dataframe\n",
    "# the example below reads only the top 10 records.\n",
    "data = pd.DataFrame(list(collection.find({}).limit(10)))\n",
    "print(data)\n"
   ]
  },
  {
   "cell_type": "code",
   "execution_count": 8,
   "metadata": {},
   "outputs": [
    {
     "name": "stdout",
     "output_type": "stream",
     "text": [
      "   AVG_SIX_MNTH_CNT    CAL_DATE  CRFA_A CRFA_C  CRFA_F  CRFA_R  \\\n",
      "0           10.8333  2017-11-06       2      S       1       9   \n",
      "1            4.3333  2018-04-24       2      S       1       9   \n",
      "2            2.0000  2018-05-07       2      S       1       9   \n",
      "3            2.5000  2017-10-18       2      S       1       9   \n",
      "4           73.0000  2017-12-06       2      S       1       9   \n",
      "5           47.8333  2018-02-19       2      S       1       9   \n",
      "6           58.1666  2018-04-16       2      S       1       9   \n",
      "7           54.6666  2017-06-21       2      S       1       9   \n",
      "8            3.3333  2017-11-13       2      S       1       9   \n",
      "9            0.0000  2017-05-24       2      S       4       9   \n",
      "\n",
      "   CUR_INTRN_DAYS  DROPIN  EOQ FULFILLMENT_RATE_2WKAVG  \\\n",
      "0               2   0.333    1                  (null)   \n",
      "1               7   0.000    0                  (null)   \n",
      "2              13   0.000    1                       1   \n",
      "3              12   0.000    1                  (null)   \n",
      "4               2   0.000    5                   0.666   \n",
      "5              12   0.000    1                       1   \n",
      "6              11   0.000    1                  (null)   \n",
      "7              11   0.250    1                  (null)   \n",
      "8               7   0.000    1                     0.5   \n",
      "9              15   0.000    1                  (null)   \n",
      "\n",
      "             ...            SPEC_CNG_OH_ADJ  SPEC_CNG_PCTS  SPEC_CNG_PEG  \\\n",
      "0            ...                          0              0             0   \n",
      "1            ...                          0              3           218   \n",
      "2            ...                          0              0             0   \n",
      "3            ...                          0              0             0   \n",
      "4            ...                          0              0             0   \n",
      "5            ...                          0              0             0   \n",
      "6            ...                          0              0             0   \n",
      "7            ...                          0              0             0   \n",
      "8            ...                          0              0             0   \n",
      "9            ...                          0              0             0   \n",
      "\n",
      "   SPEC_CNG_POR_ASN SPEC_CNG_POTR  SPEC_CNG_SCHED  SPEC_CNG_UNKNWN  SR_FLAG  \\\n",
      "0                 0             0               0                4        N   \n",
      "1                 0             0             798                5        N   \n",
      "2                 0             0              19                2        N   \n",
      "3                 0             0              20                2        N   \n",
      "4                 0             0               0                3        Y   \n",
      "5                 0             0              12                2        N   \n",
      "6                 0             0              39               10        N   \n",
      "7                 0             0               8               11        N   \n",
      "8                 0             0               0                0        N   \n",
      "9                 0             0               6                1        N   \n",
      "\n",
      "   VNDR_ID                       _id  \n",
      "0     AD98  5b6cbb7f6eb9a7941f402cf0  \n",
      "1     AD98  5b6cbb7f6eb9a7941f402cf1  \n",
      "2     DN 4  5b6cbb7f6eb9a7941f402cf2  \n",
      "3     Z582  5b6cbb7f6eb9a7941f402cf3  \n",
      "4     T606  5b6cbb7f6eb9a7941f402cf4  \n",
      "5     JK65  5b6cbb7f6eb9a7941f402cf5  \n",
      "6     ASC3  5b6cbb7f6eb9a7941f402cf6  \n",
      "7     ASC3  5b6cbb7f6eb9a7941f402cf7  \n",
      "8     B682  5b6cbb7f6eb9a7941f402cf8  \n",
      "9      PYI  5b6cbb7f6eb9a7941f402cf9  \n",
      "\n",
      "[10 rows x 35 columns]\n"
     ]
    }
   ],
   "source": []
  },
  {
   "cell_type": "code",
   "execution_count": null,
   "metadata": {},
   "outputs": [],
   "source": []
  }
 ],
 "metadata": {
  "kernelspec": {
   "display_name": "Python 3",
   "language": "python",
   "name": "python3"
  },
  "language_info": {
   "codemirror_mode": {
    "name": "ipython",
    "version": 3
   },
   "file_extension": ".py",
   "mimetype": "text/x-python",
   "name": "python",
   "nbconvert_exporter": "python",
   "pygments_lexer": "ipython3",
   "version": "3.6.5"
  }
 },
 "nbformat": 4,
 "nbformat_minor": 2
}
